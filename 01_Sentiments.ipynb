{
 "cells": [
  {
   "cell_type": "code",
   "execution_count": 1,
   "id": "ddba626e",
   "metadata": {},
   "outputs": [],
   "source": [
    "import pandas as pd\n",
    "\n",
    "import datetime as dt"
   ]
  },
  {
   "cell_type": "code",
   "execution_count": 2,
   "id": "e7e694b3",
   "metadata": {},
   "outputs": [],
   "source": [
    "import warnings\n",
    "\n",
    "warnings.filterwarnings('ignore')"
   ]
  },
  {
   "cell_type": "code",
   "execution_count": 3,
   "id": "a58a0421",
   "metadata": {},
   "outputs": [],
   "source": [
    "df = pd.read_json('All_Beauty_5.json', lines=True)"
   ]
  },
  {
   "cell_type": "code",
   "execution_count": 4,
   "id": "c2c5f4fe",
   "metadata": {},
   "outputs": [
    {
     "data": {
      "text/html": [
       "<div>\n",
       "<style scoped>\n",
       "    .dataframe tbody tr th:only-of-type {\n",
       "        vertical-align: middle;\n",
       "    }\n",
       "\n",
       "    .dataframe tbody tr th {\n",
       "        vertical-align: top;\n",
       "    }\n",
       "\n",
       "    .dataframe thead th {\n",
       "        text-align: right;\n",
       "    }\n",
       "</style>\n",
       "<table border=\"1\" class=\"dataframe\">\n",
       "  <thead>\n",
       "    <tr style=\"text-align: right;\">\n",
       "      <th></th>\n",
       "      <th>overall</th>\n",
       "      <th>verified</th>\n",
       "      <th>reviewTime</th>\n",
       "      <th>reviewerID</th>\n",
       "      <th>asin</th>\n",
       "      <th>style</th>\n",
       "      <th>reviewerName</th>\n",
       "      <th>reviewText</th>\n",
       "      <th>summary</th>\n",
       "      <th>unixReviewTime</th>\n",
       "      <th>vote</th>\n",
       "      <th>image</th>\n",
       "    </tr>\n",
       "  </thead>\n",
       "  <tbody>\n",
       "    <tr>\n",
       "      <th>0</th>\n",
       "      <td>5</td>\n",
       "      <td>True</td>\n",
       "      <td>09 1, 2016</td>\n",
       "      <td>A3CIUOJXQ5VDQ2</td>\n",
       "      <td>B0000530HU</td>\n",
       "      <td>{'Size:': ' 7.0 oz', 'Flavor:': ' Classic Ice ...</td>\n",
       "      <td>Shelly F</td>\n",
       "      <td>As advertised. Reasonably priced</td>\n",
       "      <td>Five Stars</td>\n",
       "      <td>1472688000</td>\n",
       "      <td>NaN</td>\n",
       "      <td>NaN</td>\n",
       "    </tr>\n",
       "    <tr>\n",
       "      <th>1</th>\n",
       "      <td>5</td>\n",
       "      <td>True</td>\n",
       "      <td>11 14, 2013</td>\n",
       "      <td>A3H7T87S984REU</td>\n",
       "      <td>B0000530HU</td>\n",
       "      <td>{'Size:': ' 7.0 oz', 'Flavor:': ' Classic Ice ...</td>\n",
       "      <td>houserules18</td>\n",
       "      <td>Like the oder and the feel when I put it on my...</td>\n",
       "      <td>Good for the face</td>\n",
       "      <td>1384387200</td>\n",
       "      <td>NaN</td>\n",
       "      <td>NaN</td>\n",
       "    </tr>\n",
       "  </tbody>\n",
       "</table>\n",
       "</div>"
      ],
      "text/plain": [
       "   overall  verified   reviewTime      reviewerID        asin  \\\n",
       "0        5      True   09 1, 2016  A3CIUOJXQ5VDQ2  B0000530HU   \n",
       "1        5      True  11 14, 2013  A3H7T87S984REU  B0000530HU   \n",
       "\n",
       "                                               style  reviewerName  \\\n",
       "0  {'Size:': ' 7.0 oz', 'Flavor:': ' Classic Ice ...      Shelly F   \n",
       "1  {'Size:': ' 7.0 oz', 'Flavor:': ' Classic Ice ...  houserules18   \n",
       "\n",
       "                                          reviewText            summary  \\\n",
       "0                   As advertised. Reasonably priced         Five Stars   \n",
       "1  Like the oder and the feel when I put it on my...  Good for the face   \n",
       "\n",
       "   unixReviewTime vote image  \n",
       "0      1472688000  NaN   NaN  \n",
       "1      1384387200  NaN   NaN  "
      ]
     },
     "execution_count": 4,
     "metadata": {},
     "output_type": "execute_result"
    }
   ],
   "source": [
    "df.head(2)"
   ]
  },
  {
   "cell_type": "code",
   "execution_count": 5,
   "id": "a5ab451e",
   "metadata": {},
   "outputs": [],
   "source": [
    "samp_df = df[['reviewerID', 'reviewerName', 'summary', 'reviewText']]"
   ]
  },
  {
   "cell_type": "code",
   "execution_count": 6,
   "id": "af814d1a",
   "metadata": {},
   "outputs": [
    {
     "data": {
      "text/html": [
       "<div>\n",
       "<style scoped>\n",
       "    .dataframe tbody tr th:only-of-type {\n",
       "        vertical-align: middle;\n",
       "    }\n",
       "\n",
       "    .dataframe tbody tr th {\n",
       "        vertical-align: top;\n",
       "    }\n",
       "\n",
       "    .dataframe thead th {\n",
       "        text-align: right;\n",
       "    }\n",
       "</style>\n",
       "<table border=\"1\" class=\"dataframe\">\n",
       "  <thead>\n",
       "    <tr style=\"text-align: right;\">\n",
       "      <th></th>\n",
       "      <th>reviewerID</th>\n",
       "      <th>reviewerName</th>\n",
       "      <th>summary</th>\n",
       "      <th>reviewText</th>\n",
       "    </tr>\n",
       "  </thead>\n",
       "  <tbody>\n",
       "    <tr>\n",
       "      <th>0</th>\n",
       "      <td>A3CIUOJXQ5VDQ2</td>\n",
       "      <td>Shelly F</td>\n",
       "      <td>Five Stars</td>\n",
       "      <td>As advertised. Reasonably priced</td>\n",
       "    </tr>\n",
       "    <tr>\n",
       "      <th>1</th>\n",
       "      <td>A3H7T87S984REU</td>\n",
       "      <td>houserules18</td>\n",
       "      <td>Good for the face</td>\n",
       "      <td>Like the oder and the feel when I put it on my...</td>\n",
       "    </tr>\n",
       "  </tbody>\n",
       "</table>\n",
       "</div>"
      ],
      "text/plain": [
       "       reviewerID  reviewerName            summary  \\\n",
       "0  A3CIUOJXQ5VDQ2      Shelly F         Five Stars   \n",
       "1  A3H7T87S984REU  houserules18  Good for the face   \n",
       "\n",
       "                                          reviewText  \n",
       "0                   As advertised. Reasonably priced  \n",
       "1  Like the oder and the feel when I put it on my...  "
      ]
     },
     "execution_count": 6,
     "metadata": {},
     "output_type": "execute_result"
    }
   ],
   "source": [
    "samp_df.head(2)"
   ]
  },
  {
   "cell_type": "code",
   "execution_count": 7,
   "id": "c40ba4d2",
   "metadata": {},
   "outputs": [],
   "source": [
    "from textblob import TextBlob"
   ]
  },
  {
   "cell_type": "code",
   "execution_count": 8,
   "id": "bb9baad9",
   "metadata": {},
   "outputs": [],
   "source": [
    "sen = TextBlob('I love this product')"
   ]
  },
  {
   "cell_type": "code",
   "execution_count": 9,
   "id": "e0971487",
   "metadata": {},
   "outputs": [
    {
     "data": {
      "text/plain": [
       "Sentiment(polarity=0.5, subjectivity=0.6)"
      ]
     },
     "execution_count": 9,
     "metadata": {},
     "output_type": "execute_result"
    }
   ],
   "source": [
    "sen.sentiment"
   ]
  },
  {
   "cell_type": "code",
   "execution_count": 10,
   "id": "954c1356",
   "metadata": {},
   "outputs": [
    {
     "data": {
      "text/plain": [
       "0.5"
      ]
     },
     "execution_count": 10,
     "metadata": {},
     "output_type": "execute_result"
    }
   ],
   "source": [
    "sen.polarity"
   ]
  },
  {
   "cell_type": "code",
   "execution_count": 11,
   "id": "426d4712",
   "metadata": {},
   "outputs": [],
   "source": [
    "def get_senti(text):\n",
    "    if isinstance(text, float):\n",
    "        text = str(text)\n",
    "    \n",
    "    blob = TextBlob(text)\n",
    "    \n",
    "    senti = blob.sentiment.polarity\n",
    "    \n",
    "    if senti >0:\n",
    "        return('Positive Review')\n",
    "    elif senti == 0:\n",
    "        return('Neutral Review')\n",
    "    else:\n",
    "        return('Negative Review')"
   ]
  },
  {
   "cell_type": "code",
   "execution_count": 12,
   "id": "fe9d4882",
   "metadata": {},
   "outputs": [],
   "source": [
    "samp_df['Sentiment Analysis'] = samp_df['reviewText'].apply(get_senti)"
   ]
  },
  {
   "cell_type": "code",
   "execution_count": 13,
   "id": "17f81276",
   "metadata": {},
   "outputs": [
    {
     "data": {
      "text/html": [
       "<div>\n",
       "<style scoped>\n",
       "    .dataframe tbody tr th:only-of-type {\n",
       "        vertical-align: middle;\n",
       "    }\n",
       "\n",
       "    .dataframe tbody tr th {\n",
       "        vertical-align: top;\n",
       "    }\n",
       "\n",
       "    .dataframe thead th {\n",
       "        text-align: right;\n",
       "    }\n",
       "</style>\n",
       "<table border=\"1\" class=\"dataframe\">\n",
       "  <thead>\n",
       "    <tr style=\"text-align: right;\">\n",
       "      <th></th>\n",
       "      <th>reviewerID</th>\n",
       "      <th>reviewerName</th>\n",
       "      <th>summary</th>\n",
       "      <th>reviewText</th>\n",
       "      <th>Sentiment Analysis</th>\n",
       "    </tr>\n",
       "  </thead>\n",
       "  <tbody>\n",
       "    <tr>\n",
       "      <th>0</th>\n",
       "      <td>A3CIUOJXQ5VDQ2</td>\n",
       "      <td>Shelly F</td>\n",
       "      <td>Five Stars</td>\n",
       "      <td>As advertised. Reasonably priced</td>\n",
       "      <td>Positive Review</td>\n",
       "    </tr>\n",
       "    <tr>\n",
       "      <th>1</th>\n",
       "      <td>A3H7T87S984REU</td>\n",
       "      <td>houserules18</td>\n",
       "      <td>Good for the face</td>\n",
       "      <td>Like the oder and the feel when I put it on my...</td>\n",
       "      <td>Negative Review</td>\n",
       "    </tr>\n",
       "  </tbody>\n",
       "</table>\n",
       "</div>"
      ],
      "text/plain": [
       "       reviewerID  reviewerName            summary  \\\n",
       "0  A3CIUOJXQ5VDQ2      Shelly F         Five Stars   \n",
       "1  A3H7T87S984REU  houserules18  Good for the face   \n",
       "\n",
       "                                          reviewText Sentiment Analysis  \n",
       "0                   As advertised. Reasonably priced    Positive Review  \n",
       "1  Like the oder and the feel when I put it on my...    Negative Review  "
      ]
     },
     "execution_count": 13,
     "metadata": {},
     "output_type": "execute_result"
    }
   ],
   "source": [
    "samp_df.head(2)"
   ]
  },
  {
   "cell_type": "code",
   "execution_count": null,
   "id": "4bdc5c67",
   "metadata": {},
   "outputs": [],
   "source": []
  }
 ],
 "metadata": {
  "kernelspec": {
   "display_name": "Python 3 (ipykernel)",
   "language": "python",
   "name": "python3"
  },
  "language_info": {
   "codemirror_mode": {
    "name": "ipython",
    "version": 3
   },
   "file_extension": ".py",
   "mimetype": "text/x-python",
   "name": "python",
   "nbconvert_exporter": "python",
   "pygments_lexer": "ipython3",
   "version": "3.9.12"
  }
 },
 "nbformat": 4,
 "nbformat_minor": 5
}
